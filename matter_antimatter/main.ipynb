{
 "cells": [
  {
   "cell_type": "code",
   "execution_count": 1,
   "metadata": {},
   "outputs": [
    {
     "name": "stdout",
     "output_type": "stream",
     "text": [
      "^C\n"
     ]
    }
   ],
   "source": [
    "!pip install uproot --quiet\n",
    "!pip install matplotlib --quiet\n",
    "!pip install numpy --quiet\n",
    "!pip install scipy --quiet\n",
    "!pip install tqdm --quiet\n",
    "!pip install jax jaxlib --quiet"
   ]
  },
  {
   "cell_type": "code",
   "execution_count": 2,
   "metadata": {},
   "outputs": [],
   "source": [
    "import uproot\n",
    "import numpy as np\n",
    "import matplotlib.pylab as plt\n",
    "import matplotlib.colors as colors\n",
    "from scipy.optimize import curve_fit\n",
    "# import file_reading from src file \n",
    "from src.file_reading import read_file\n",
    "from importlib import reload\n"
   ]
  },
  {
   "cell_type": "code",
   "execution_count": null,
   "metadata": {},
   "outputs": [],
   "source": []
  },
  {
   "cell_type": "code",
   "execution_count": 3,
   "metadata": {},
   "outputs": [],
   "source": [
    "path = 'data/' # set this to '' to run on the GitHub version\n",
    "events_sim = uproot.open(path+'PhaseSpaceSimulation.root')\n",
    "events_down = uproot.open(path+'B2HHH_MagnetDown.root')\n",
    "events_up = uproot.open(path+'B2HHH_MagnetUp.root')"
   ]
  },
  {
   "cell_type": "code",
   "execution_count": 4,
   "metadata": {},
   "outputs": [],
   "source": [
    "list_of_interesting_keys = []\n",
    "for i in range(1, 4):\n",
    "    exec(f\"list_of_interesting_keys.append('H{i}_PX')\")\n",
    "    exec(f\"list_of_interesting_keys.append('H{i}_PY')  \")\n",
    "    exec(f\"list_of_interesting_keys.append('H{i}_PZ')  \")\n",
    "    exec(f\"list_of_interesting_keys.append('H{i}_Charge')  \")\n",
    "    exec(f\"list_of_interesting_keys.append('H{i}_ProbK')  \")\n",
    "    exec(f\"list_of_interesting_keys.append('H{i}_ProbPi')  \")\n",
    "    exec(f\"list_of_interesting_keys.append('H{i}_isMuon')  \")"
   ]
  },
  {
   "cell_type": "code",
   "execution_count": 5,
   "metadata": {},
   "outputs": [
    {
     "name": "stdout",
     "output_type": "stream",
     "text": [
      "Input data variables:\n",
      "['B_FlightDistance', 'B_VertexChi2', 'H1_PX', 'H1_PY', 'H1_PZ', 'H1_ProbK', 'H1_ProbPi', 'H1_Charge', 'H1_IPChi2', 'H1_isMuon', 'H2_PX', 'H2_PY', 'H2_PZ', 'H2_ProbK', 'H2_ProbPi', 'H2_Charge', 'H2_IPChi2', 'H2_isMuon', 'H3_PX', 'H3_PY', 'H3_PZ', 'H3_ProbK', 'H3_ProbPi', 'H3_Charge', 'H3_IPChi2', 'H3_isMuon']\n",
      "Read 5001 events\n"
     ]
    }
   ],
   "source": [
    "# Check what's in the tree. \n",
    "# Note that the simulation tree is called 'PhaseSpaceTree' and does not have the ProbPi/K variables filled.\n",
    "print('Input data variables:')\n",
    "print(events_up['DecayTree'].keys())\n",
    "\n",
    "# These are the arrays to hold the data\n",
    "pT = []\n",
    "pX = []\n",
    "pY = []\n",
    "pZ = []\n",
    "\n",
    "# A counter for bookkeeping\n",
    "event_counter = 0\n",
    "\n",
    "# If set to a value greater than 0, limits the number of events analysed\n",
    "# Set to -1 to run over all events. \n",
    "# It is recommended to keep the number of events limited while developing the analysis.\n",
    "MAX_EVENTS = 5000\n",
    "\n",
    "# Select which set of input data is to be analysed. Uncomment exactly one line\n",
    "trees = [events_sim['PhaseSpaceTree']]                       # Simulation\n",
    "#trees = [events_down[b'DecayTree']]                          # Magnet down data\n",
    "#trees = [events_up['DecayTree']]                             # Magnet up data\n",
    "#trees = [events_down[b'DecayTree'],events_up['DecayTree']]   # Magnet down+up data\n",
    "\n",
    "# This loop goes over the trees to be analysed\n",
    "for tree in trees:\n",
    "    # This outer loop is a technical loop of uproot over chunks of events\n",
    "    \n",
    "    for data in tree.iterate(list_of_interesting_keys):\n",
    "        # As Python can handle calculations with arrays, we can calculate derived quantities here\n",
    "        pT_H1 = np.sqrt(data['H1_PX']**2+data['H1_PY']**2)\n",
    "        pT_H2 = np.sqrt(data['H2_PX']**2+data['H2_PY']**2)\n",
    "        pT_H3 = np.sqrt(data['H3_PX']**2+data['H3_PY']**2)\n",
    "\n",
    "        # Your invariant mass calculation should go here\n",
    "        \n",
    "        # This loop will go over individual events\n",
    "        for i in range(0,len(data['H1_PZ'])):\n",
    "            event_counter += 1\n",
    "            if 0 < MAX_EVENTS and MAX_EVENTS < event_counter: break\n",
    "            if 0 == (event_counter % 100000): print('Read', event_counter, 'events')\n",
    "            # Decide here which events to analyse\n",
    "            if (data['H1_PZ'][i] < 0) or (data['H2_PZ'][i] < 0) or (data['H3_PZ'][i] < 0): continue\n",
    "            # Fill arrays of events to be plotted and analysed further below\n",
    "            # Adding values for all three hadrons to the same variable here\n",
    "            pT.append(pT_H1[i])\n",
    "            pT.append(pT_H2[i])\n",
    "            pT.append(pT_H3[i])\n",
    "            pX.append(data['H1_PX'][i])\n",
    "            pX.append(data['H2_PX'][i])\n",
    "            pX.append(data['H3_PX'][i])\n",
    "            pY.append(data['H1_PY'][i])\n",
    "            pY.append(data['H2_PY'][i])\n",
    "            pY.append(data['H3_PY'][i])\n",
    "            pZ.append(data['H1_PZ'][i])\n",
    "            pZ.append(data['H2_PZ'][i])\n",
    "            pZ.append(data['H3_PZ'][i])\n",
    " \n",
    "print('Read {:d} events'.format(event_counter))"
   ]
  },
  {
   "cell_type": "code",
   "execution_count": 6,
   "metadata": {},
   "outputs": [],
   "source": [
    "#reload file_reading\n",
    "#pT, pX, pY, pZ = read_file(MAX_EVENTS=5000, mode=0)"
   ]
  },
  {
   "cell_type": "code",
   "execution_count": null,
   "metadata": {},
   "outputs": [],
   "source": []
  },
  {
   "cell_type": "code",
   "execution_count": 29,
   "metadata": {},
   "outputs": [],
   "source": [
    "list_of_interesting_keys = []\n",
    "for i in range(3):\n",
    "    exec(f\"list_of_interesting_keys.append('H{i}_PX')\")\n",
    "    exec(f\"list_of_interesting_keys.append('H{i}_PY')  \")\n",
    "    exec(f\"list_of_interesting_keys.append('H{i}_PZ')  \")\n",
    "    exec(f\"list_of_interesting_keys.append('H{i}_Charge')  \")\n",
    "    exec(f\"list_of_interesting_keys.append('H{i}_Prob{i}')  \")\n",
    "    exec(f\"list_of_interesting_keys.append('H{i}_isMuon')  \")"
   ]
  },
  {
   "cell_type": "code",
   "execution_count": 30,
   "metadata": {},
   "outputs": [
    {
     "data": {
      "text/plain": [
       "['H0_PX',\n",
       " 'H0_PY',\n",
       " 'H0_PZ',\n",
       " 'H0_Charge',\n",
       " 'H0_Prob0',\n",
       " 'H0_isMuon',\n",
       " 'H1_PX',\n",
       " 'H1_PY',\n",
       " 'H1_PZ',\n",
       " 'H1_Charge',\n",
       " 'H1_Prob1',\n",
       " 'H1_isMuon',\n",
       " 'H2_PX',\n",
       " 'H2_PY',\n",
       " 'H2_PZ',\n",
       " 'H2_Charge',\n",
       " 'H2_Prob2',\n",
       " 'H2_isMuon']"
      ]
     },
     "execution_count": 30,
     "metadata": {},
     "output_type": "execute_result"
    }
   ],
   "source": [
    "list_of_interesting_keys"
   ]
  },
  {
   "cell_type": "code",
   "execution_count": null,
   "metadata": {},
   "outputs": [],
   "source": []
  },
  {
   "cell_type": "markdown",
   "metadata": {},
   "source": []
  },
  {
   "cell_type": "code",
   "execution_count": 32,
   "metadata": {},
   "outputs": [
    {
     "name": "stdout",
     "output_type": "stream",
     "text": [
      "[{H1_PX: 5.21e+03, H1_PY: 4.08e+03, H1_PZ: 1.93e+04, H1_Charge: -1, ...}, ...]\n"
     ]
    }
   ],
   "source": [
    "print(data[b\"H1_PX\"])"
   ]
  },
  {
   "cell_type": "code",
   "execution_count": null,
   "metadata": {},
   "outputs": [],
   "source": []
  }
 ],
 "metadata": {
  "kernelspec": {
   "display_name": "Python 3",
   "language": "python",
   "name": "python3"
  },
  "language_info": {
   "codemirror_mode": {
    "name": "ipython",
    "version": 3
   },
   "file_extension": ".py",
   "mimetype": "text/x-python",
   "name": "python",
   "nbconvert_exporter": "python",
   "pygments_lexer": "ipython3",
   "version": "3.8.10"
  },
  "orig_nbformat": 4
 },
 "nbformat": 4,
 "nbformat_minor": 2
}
