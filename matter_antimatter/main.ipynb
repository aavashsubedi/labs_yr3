{
 "cells": [
  {
   "cell_type": "code",
   "execution_count": 2,
   "metadata": {},
   "outputs": [],
   "source": [
    "import uproot\n",
    "import numpy as np\n",
    "import matplotlib.pylab as plt\n",
    "import matplotlib.colors as colors\n",
    "from scipy.optimize import curve_fit\n",
    "# import file_reading from src file \n",
    "from src.file_reading import read_file\n",
    "from importlib import reload\n"
   ]
  },
  {
   "cell_type": "code",
   "execution_count": 4,
   "metadata": {},
   "outputs": [],
   "source": [
    "path = 'data/' # set this to '' to run on the GitHub version\n",
    "events_sim = uproot.open(path+'PhaseSpaceSimulation.root')\n",
    "events_down = uproot.open(path+'B2HHH_MagnetDown.root')\n",
    "events_up = uproot.open(path+'B2HHH_MagnetUp.root')"
   ]
  },
  {
   "cell_type": "code",
   "execution_count": 28,
   "metadata": {},
   "outputs": [],
   "source": [
    "list_of_interesting_keys = []\n",
    "for i in range(1, 3):\n",
    "    exec(f\"list_of_interesting_keys.append('H{i}_PX')\")\n",
    "    exec(f\"list_of_interesting_keys.append('H{i}_PY')  \")\n",
    "    exec(f\"list_of_interesting_keys.append('H{i}_PZ')  \")\n",
    "    exec(f\"list_of_interesting_keys.append('H{i}_Charge')  \")\n",
    "    exec(f\"list_of_interesting_keys.append('H{i}_ProbK')  \")\n",
    "    exec(f\"list_of_interesting_keys.append('H{i}_ProbPi')  \")\n",
    "    exec(f\"list_of_interesting_keys.append('H{i}_isMuon')  \")"
   ]
  },
  {
   "cell_type": "code",
   "execution_count": 33,
   "metadata": {},
   "outputs": [
    {
     "name": "stdout",
     "output_type": "stream",
     "text": [
      "Input data variables:\n",
      "['B_FlightDistance', 'B_VertexChi2', 'H1_PX', 'H1_PY', 'H1_PZ', 'H1_ProbK', 'H1_ProbPi', 'H1_Charge', 'H1_IPChi2', 'H1_isMuon', 'H2_PX', 'H2_PY', 'H2_PZ', 'H2_ProbK', 'H2_ProbPi', 'H2_Charge', 'H2_IPChi2', 'H2_isMuon', 'H3_PX', 'H3_PY', 'H3_PZ', 'H3_ProbK', 'H3_ProbPi', 'H3_Charge', 'H3_IPChi2', 'H3_isMuon']\n",
      "<class 'awkward.highlevel.Array'>\n",
      "[1.26e+07, 6.38e+06, 4.91e+05, 1.13e+07, ..., 1.54e+06, 3.54e+08, 2.58e+09]\n"
     ]
    },
    {
     "ename": "ValueError",
     "evalue": "while calling\n\n    numpy.power.__call__(\n        <Array [{H1_PX: 5.21e+03, ...}, ..., {...}] type='5 * {H1_PX: float...'>\n        2\n    )\n\nError details: cannot broadcast records in power",
     "output_type": "error",
     "traceback": [
      "\u001b[0;31m---------------------------------------------------------------------------\u001b[0m",
      "\u001b[0;31mValueError\u001b[0m                                Traceback (most recent call last)",
      "Cell \u001b[0;32mIn[33], line 34\u001b[0m\n\u001b[1;32m     32\u001b[0m \u001b[39mprint\u001b[39m(\u001b[39mtype\u001b[39m(data[\u001b[39m'\u001b[39m\u001b[39mH1_PX\u001b[39m\u001b[39m'\u001b[39m]))\n\u001b[1;32m     33\u001b[0m \u001b[39mprint\u001b[39m(data[\u001b[39m'\u001b[39m\u001b[39mH1_PX\u001b[39m\u001b[39m'\u001b[39m] \u001b[39m*\u001b[39m\u001b[39m*\u001b[39m \u001b[39m2\u001b[39m)\n\u001b[0;32m---> 34\u001b[0m pT_H1 \u001b[39m=\u001b[39m np\u001b[39m.\u001b[39msqrt(data[\u001b[39mb\u001b[39;49m\u001b[39m'\u001b[39;49m\u001b[39mH1_PX\u001b[39;49m\u001b[39m'\u001b[39;49m]\u001b[39m*\u001b[39;49m\u001b[39m*\u001b[39;49m\u001b[39m2\u001b[39;49m\u001b[39m+\u001b[39mdata[\u001b[39mb\u001b[39m\u001b[39m'\u001b[39m\u001b[39mH1_PY\u001b[39m\u001b[39m'\u001b[39m]\u001b[39m*\u001b[39m\u001b[39m*\u001b[39m\u001b[39m2\u001b[39m)\n\u001b[1;32m     35\u001b[0m pT_H2 \u001b[39m=\u001b[39m np\u001b[39m.\u001b[39msqrt(data[\u001b[39mb\u001b[39m\u001b[39m'\u001b[39m\u001b[39mH2_PX\u001b[39m\u001b[39m'\u001b[39m]\u001b[39m*\u001b[39m\u001b[39m*\u001b[39m\u001b[39m2\u001b[39m\u001b[39m+\u001b[39mdata[\u001b[39mb\u001b[39m\u001b[39m'\u001b[39m\u001b[39mH2_PY\u001b[39m\u001b[39m'\u001b[39m]\u001b[39m*\u001b[39m\u001b[39m*\u001b[39m\u001b[39m2\u001b[39m)\n\u001b[1;32m     36\u001b[0m pT_H3 \u001b[39m=\u001b[39m np\u001b[39m.\u001b[39msqrt(data[\u001b[39mb\u001b[39m\u001b[39m'\u001b[39m\u001b[39mH3_PX\u001b[39m\u001b[39m'\u001b[39m]\u001b[39m*\u001b[39m\u001b[39m*\u001b[39m\u001b[39m2\u001b[39m\u001b[39m+\u001b[39mdata[\u001b[39mb\u001b[39m\u001b[39m'\u001b[39m\u001b[39mH3_PY\u001b[39m\u001b[39m'\u001b[39m]\u001b[39m*\u001b[39m\u001b[39m*\u001b[39m\u001b[39m2\u001b[39m)\n",
      "File \u001b[0;32m~/.local/lib/python3.10/site-packages/numpy/lib/mixins.py:21\u001b[0m, in \u001b[0;36m_binary_method.<locals>.func\u001b[0;34m(self, other)\u001b[0m\n\u001b[1;32m     19\u001b[0m \u001b[39mif\u001b[39;00m _disables_array_ufunc(other):\n\u001b[1;32m     20\u001b[0m     \u001b[39mreturn\u001b[39;00m \u001b[39mNotImplemented\u001b[39m\n\u001b[0;32m---> 21\u001b[0m \u001b[39mreturn\u001b[39;00m ufunc(\u001b[39mself\u001b[39;49m, other)\n",
      "File \u001b[0;32m~/.python/current/lib/python3.10/site-packages/awkward/highlevel.py:1373\u001b[0m, in \u001b[0;36mArray.__array_ufunc__\u001b[0;34m(self, ufunc, method, *inputs, **kwargs)\u001b[0m\n\u001b[1;32m   1371\u001b[0m arguments\u001b[39m.\u001b[39mupdate(kwargs)\n\u001b[1;32m   1372\u001b[0m \u001b[39mwith\u001b[39;00m ak\u001b[39m.\u001b[39m_errors\u001b[39m.\u001b[39mOperationErrorContext(name, arguments):\n\u001b[0;32m-> 1373\u001b[0m     \u001b[39mreturn\u001b[39;00m ak\u001b[39m.\u001b[39;49m_connect\u001b[39m.\u001b[39;49mnumpy\u001b[39m.\u001b[39;49marray_ufunc(ufunc, method, inputs, kwargs)\n",
      "File \u001b[0;32m~/.python/current/lib/python3.10/site-packages/awkward/_connect/numpy.py:282\u001b[0m, in \u001b[0;36marray_ufunc\u001b[0;34m(ufunc, method, inputs, kwargs)\u001b[0m\n\u001b[1;32m    279\u001b[0m             \u001b[39massert\u001b[39;00m \u001b[39misinstance\u001b[39m(result, \u001b[39mtuple\u001b[39m) \u001b[39mand\u001b[39;00m \u001b[39mlen\u001b[39m(result) \u001b[39m==\u001b[39m \u001b[39m1\u001b[39m\n\u001b[1;32m    280\u001b[0m             \u001b[39mreturn\u001b[39;00m result[\u001b[39m0\u001b[39m]\n\u001b[0;32m--> 282\u001b[0m     out \u001b[39m=\u001b[39m ak\u001b[39m.\u001b[39;49m_do\u001b[39m.\u001b[39;49mrecursively_apply(\n\u001b[1;32m    283\u001b[0m         inputs[where],\n\u001b[1;32m    284\u001b[0m         unary_action,\n\u001b[1;32m    285\u001b[0m         behavior,\n\u001b[1;32m    286\u001b[0m         function_name\u001b[39m=\u001b[39;49mufunc\u001b[39m.\u001b[39;49m\u001b[39m__name__\u001b[39;49m,\n\u001b[1;32m    287\u001b[0m         allow_records\u001b[39m=\u001b[39;49m\u001b[39mFalse\u001b[39;49;00m,\n\u001b[1;32m    288\u001b[0m     )\n\u001b[1;32m    290\u001b[0m \u001b[39melse\u001b[39;00m:\n\u001b[1;32m    291\u001b[0m     out \u001b[39m=\u001b[39m ak\u001b[39m.\u001b[39m_broadcasting\u001b[39m.\u001b[39mbroadcast_and_apply(\n\u001b[1;32m    292\u001b[0m         inputs, action, behavior, allow_records\u001b[39m=\u001b[39m\u001b[39mFalse\u001b[39;00m, function_name\u001b[39m=\u001b[39mufunc\u001b[39m.\u001b[39m\u001b[39m__name__\u001b[39m\n\u001b[1;32m    293\u001b[0m     )\n",
      "File \u001b[0;32m~/.python/current/lib/python3.10/site-packages/awkward/_do.py:34\u001b[0m, in \u001b[0;36mrecursively_apply\u001b[0;34m(layout, action, behavior, depth_context, lateral_context, allow_records, keep_parameters, numpy_to_regular, return_simplified, return_array, function_name, regular_to_jagged)\u001b[0m\n\u001b[1;32m     19\u001b[0m \u001b[39mdef\u001b[39;00m \u001b[39mrecursively_apply\u001b[39m(\n\u001b[1;32m     20\u001b[0m     layout: Content \u001b[39m|\u001b[39m Record,\n\u001b[1;32m     21\u001b[0m     action: ActionType,\n\u001b[0;32m   (...)\u001b[0m\n\u001b[1;32m     31\u001b[0m     regular_to_jagged\u001b[39m=\u001b[39m\u001b[39mFalse\u001b[39;00m,\n\u001b[1;32m     32\u001b[0m ) \u001b[39m-\u001b[39m\u001b[39m>\u001b[39m Content \u001b[39m|\u001b[39m Record \u001b[39m|\u001b[39m \u001b[39mNone\u001b[39;00m:\n\u001b[1;32m     33\u001b[0m     \u001b[39mif\u001b[39;00m \u001b[39misinstance\u001b[39m(layout, Content):\n\u001b[0;32m---> 34\u001b[0m         \u001b[39mreturn\u001b[39;00m layout\u001b[39m.\u001b[39;49m_recursively_apply(\n\u001b[1;32m     35\u001b[0m             action,\n\u001b[1;32m     36\u001b[0m             behavior,\n\u001b[1;32m     37\u001b[0m             \u001b[39m1\u001b[39;49m,\n\u001b[1;32m     38\u001b[0m             copy\u001b[39m.\u001b[39;49mcopy(depth_context),\n\u001b[1;32m     39\u001b[0m             lateral_context,\n\u001b[1;32m     40\u001b[0m             {\n\u001b[1;32m     41\u001b[0m                 \u001b[39m\"\u001b[39;49m\u001b[39mallow_records\u001b[39;49m\u001b[39m\"\u001b[39;49m: allow_records,\n\u001b[1;32m     42\u001b[0m                 \u001b[39m\"\u001b[39;49m\u001b[39mkeep_parameters\u001b[39;49m\u001b[39m\"\u001b[39;49m: keep_parameters,\n\u001b[1;32m     43\u001b[0m                 \u001b[39m\"\u001b[39;49m\u001b[39mnumpy_to_regular\u001b[39;49m\u001b[39m\"\u001b[39;49m: numpy_to_regular,\n\u001b[1;32m     44\u001b[0m                 \u001b[39m\"\u001b[39;49m\u001b[39mregular_to_jagged\u001b[39;49m\u001b[39m\"\u001b[39;49m: regular_to_jagged,\n\u001b[1;32m     45\u001b[0m                 \u001b[39m\"\u001b[39;49m\u001b[39mreturn_simplified\u001b[39;49m\u001b[39m\"\u001b[39;49m: return_simplified,\n\u001b[1;32m     46\u001b[0m                 \u001b[39m\"\u001b[39;49m\u001b[39mreturn_array\u001b[39;49m\u001b[39m\"\u001b[39;49m: return_array,\n\u001b[1;32m     47\u001b[0m                 \u001b[39m\"\u001b[39;49m\u001b[39mfunction_name\u001b[39;49m\u001b[39m\"\u001b[39;49m: function_name,\n\u001b[1;32m     48\u001b[0m             },\n\u001b[1;32m     49\u001b[0m         )\n\u001b[1;32m     51\u001b[0m     \u001b[39melif\u001b[39;00m \u001b[39misinstance\u001b[39m(layout, Record):\n\u001b[1;32m     52\u001b[0m         out \u001b[39m=\u001b[39m recursively_apply(\n\u001b[1;32m     53\u001b[0m             layout\u001b[39m.\u001b[39m_array,\n\u001b[1;32m     54\u001b[0m             action,\n\u001b[0;32m   (...)\u001b[0m\n\u001b[1;32m     63\u001b[0m             function_name,\n\u001b[1;32m     64\u001b[0m         )\n",
      "File \u001b[0;32m~/.python/current/lib/python3.10/site-packages/awkward/contents/indexedarray.py:1110\u001b[0m, in \u001b[0;36mIndexedArray._recursively_apply\u001b[0;34m(self, action, behavior, depth, depth_context, lateral_context, options)\u001b[0m\n\u001b[1;32m   1108\u001b[0m     \u001b[39mreturn\u001b[39;00m result\n\u001b[1;32m   1109\u001b[0m \u001b[39melif\u001b[39;00m result \u001b[39mis\u001b[39;00m \u001b[39mNone\u001b[39;00m:\n\u001b[0;32m-> 1110\u001b[0m     \u001b[39mreturn\u001b[39;00m continuation()\n\u001b[1;32m   1111\u001b[0m \u001b[39melse\u001b[39;00m:\n\u001b[1;32m   1112\u001b[0m     \u001b[39mraise\u001b[39;00m ak\u001b[39m.\u001b[39m_errors\u001b[39m.\u001b[39mwrap_error(\u001b[39mAssertionError\u001b[39;00m(result))\n",
      "File \u001b[0;32m~/.python/current/lib/python3.10/site-packages/awkward/contents/indexedarray.py:1073\u001b[0m, in \u001b[0;36mIndexedArray._recursively_apply.<locals>.continuation\u001b[0;34m()\u001b[0m\n\u001b[1;32m   1070\u001b[0m \u001b[39mdef\u001b[39;00m \u001b[39mcontinuation\u001b[39m():\n\u001b[1;32m   1071\u001b[0m     \u001b[39mreturn\u001b[39;00m make(\n\u001b[1;32m   1072\u001b[0m         index,\n\u001b[0;32m-> 1073\u001b[0m         content\u001b[39m.\u001b[39;49m_recursively_apply(\n\u001b[1;32m   1074\u001b[0m             action,\n\u001b[1;32m   1075\u001b[0m             behavior,\n\u001b[1;32m   1076\u001b[0m             depth,\n\u001b[1;32m   1077\u001b[0m             copy\u001b[39m.\u001b[39;49mcopy(depth_context),\n\u001b[1;32m   1078\u001b[0m             lateral_context,\n\u001b[1;32m   1079\u001b[0m             options,\n\u001b[1;32m   1080\u001b[0m         ),\n\u001b[1;32m   1081\u001b[0m         parameters\u001b[39m=\u001b[39m\u001b[39mself\u001b[39m\u001b[39m.\u001b[39m_parameters \u001b[39mif\u001b[39;00m options[\u001b[39m\"\u001b[39m\u001b[39mkeep_parameters\u001b[39m\u001b[39m\"\u001b[39m] \u001b[39melse\u001b[39;00m \u001b[39mNone\u001b[39;00m,\n\u001b[1;32m   1082\u001b[0m     )\n",
      "File \u001b[0;32m~/.python/current/lib/python3.10/site-packages/awkward/contents/recordarray.py:1113\u001b[0m, in \u001b[0;36mRecordArray._recursively_apply\u001b[0;34m(self, action, behavior, depth, depth_context, lateral_context, options)\u001b[0m\n\u001b[1;32m   1111\u001b[0m     \u001b[39mreturn\u001b[39;00m result\n\u001b[1;32m   1112\u001b[0m \u001b[39melif\u001b[39;00m result \u001b[39mis\u001b[39;00m \u001b[39mNone\u001b[39;00m:\n\u001b[0;32m-> 1113\u001b[0m     \u001b[39mreturn\u001b[39;00m continuation()\n\u001b[1;32m   1114\u001b[0m \u001b[39melse\u001b[39;00m:\n\u001b[1;32m   1115\u001b[0m     \u001b[39mraise\u001b[39;00m ak\u001b[39m.\u001b[39m_errors\u001b[39m.\u001b[39mwrap_error(\u001b[39mAssertionError\u001b[39;00m(result))\n",
      "File \u001b[0;32m~/.python/current/lib/python3.10/site-packages/awkward/contents/recordarray.py:1063\u001b[0m, in \u001b[0;36mRecordArray._recursively_apply.<locals>.continuation\u001b[0;34m()\u001b[0m\n\u001b[1;32m   1061\u001b[0m \u001b[39mdef\u001b[39;00m \u001b[39mcontinuation\u001b[39m():\n\u001b[1;32m   1062\u001b[0m     \u001b[39mif\u001b[39;00m \u001b[39mnot\u001b[39;00m options[\u001b[39m\"\u001b[39m\u001b[39mallow_records\u001b[39m\u001b[39m\"\u001b[39m]:\n\u001b[0;32m-> 1063\u001b[0m         \u001b[39mraise\u001b[39;00m ak\u001b[39m.\u001b[39m_errors\u001b[39m.\u001b[39mwrap_error(\n\u001b[1;32m   1064\u001b[0m             \u001b[39mValueError\u001b[39;00m(\n\u001b[1;32m   1065\u001b[0m                 \u001b[39mf\u001b[39m\u001b[39m\"\u001b[39m\u001b[39mcannot broadcast records in \u001b[39m\u001b[39m{\u001b[39;00moptions[\u001b[39m'\u001b[39m\u001b[39mfunction_name\u001b[39m\u001b[39m'\u001b[39m]\u001b[39m}\u001b[39;00m\u001b[39m\"\u001b[39m\n\u001b[1;32m   1066\u001b[0m             )\n\u001b[1;32m   1067\u001b[0m         )\n\u001b[1;32m   1068\u001b[0m     \u001b[39mreturn\u001b[39;00m RecordArray(\n\u001b[1;32m   1069\u001b[0m         [\n\u001b[1;32m   1070\u001b[0m             content\u001b[39m.\u001b[39m_recursively_apply(\n\u001b[0;32m   (...)\u001b[0m\n\u001b[1;32m   1083\u001b[0m         backend\u001b[39m=\u001b[39m\u001b[39mself\u001b[39m\u001b[39m.\u001b[39m_backend,\n\u001b[1;32m   1084\u001b[0m     )\n",
      "\u001b[0;31mValueError\u001b[0m: while calling\n\n    numpy.power.__call__(\n        <Array [{H1_PX: 5.21e+03, ...}, ..., {...}] type='5 * {H1_PX: float...'>\n        2\n    )\n\nError details: cannot broadcast records in power"
     ]
    }
   ],
   "source": [
    "# Check what's in the tree. \n",
    "# Note that the simulation tree is called 'PhaseSpaceTree' and does not have the ProbPi/K variables filled.\n",
    "print('Input data variables:')\n",
    "print(events_up['DecayTree'].keys())\n",
    "\n",
    "# These are the arrays to hold the data\n",
    "pT = []\n",
    "pX = []\n",
    "pY = []\n",
    "pZ = []\n",
    "\n",
    "# A counter for bookkeeping\n",
    "event_counter = 0\n",
    "\n",
    "# If set to a value greater than 0, limits the number of events analysed\n",
    "# Set to -1 to run over all events. \n",
    "# It is recommended to keep the number of events limited while developing the analysis.\n",
    "MAX_EVENTS = 50000\n",
    "\n",
    "# Select which set of input data is to be analysed. Uncomment exactly one line\n",
    "trees = [events_sim['PhaseSpaceTree']]                       # Simulation\n",
    "#trees = [events_down[b'DecayTree']]                          # Magnet down data\n",
    "#trees = [events_up['DecayTree']]                             # Magnet up data\n",
    "#trees = [events_down[b'DecayTree'],events_up['DecayTree']]   # Magnet down+up data\n",
    "\n",
    "# This loop goes over the trees to be analysed\n",
    "for tree in trees:\n",
    "    # This outer loop is a technical loop of uproot over chunks of events\n",
    "    \n",
    "    for data in tree.iterate(list_of_interesting_keys):\n",
    "        # As Python can handle calculations with arrays, we can calculate derived quantities here\n",
    "        print(type(data[b'H1_PX']))\n",
    "        print(data[b'H1_PX'] ** 2)\n",
    "        pT_H1 = np.sqrt(data[b'H1_PX']**2+data[b'H1_PY']**2)\n",
    "        pT_H2 = np.sqrt(data[b'H2_PX']**2+data[b'H2_PY']**2)\n",
    "        pT_H3 = np.sqrt(data[b'H3_PX']**2+data[b'H3_PY']**2)\n",
    "\n",
    "        # Your invariant mass calculation should go here\n",
    "        \n",
    "        # This loop will go over individual events\n",
    "        for i in range(0,len(data[b'H1_PZ'])):\n",
    "            event_counter += 1\n",
    "            if 0 < MAX_EVENTS and MAX_EVENTS < event_counter: break\n",
    "            if 0 == (event_counter % 100000): print('Read', event_counter, 'events')\n",
    "            # Decide here which events to analyse\n",
    "            if (data[b'H1_PZ'][i] < 0) or (data[b'H2_PZ'][i] < 0) or (data[b'H3_PZ'][i] < 0): continue\n",
    "            # Fill arrays of events to be plotted and analysed further below\n",
    "            # Adding values for all three hadrons to the same variable here\n",
    "            pT.append(pT_H1[i])\n",
    "            pT.append(pT_H2[i])\n",
    "            pT.append(pT_H3[i])\n",
    "            pX.append(data[b'H1_PX'][i])\n",
    "            pX.append(data[b'H2_PX'][i])\n",
    "            pX.append(data[b'H3_PX'][i])\n",
    "            pY.append(data[b'H1_PY'][i])\n",
    "            pY.append(data[b'H2_PY'][i])\n",
    "            pY.append(data[b'H3_PY'][i])\n",
    "            pZ.append(data[b'H1_PZ'][i])\n",
    "            pZ.append(data[b'H2_PZ'][i])\n",
    "            pZ.append(data[b'H3_PZ'][i])\n",
    " \n",
    "print('Read {:d} events'.format(event_counter))"
   ]
  },
  {
   "cell_type": "code",
   "execution_count": 13,
   "metadata": {},
   "outputs": [],
   "source": [
    "#reload file_reading\n",
    "#pT, pX, pY, pZ = read_file(MAX_EVENTS=5000, mode=0)"
   ]
  },
  {
   "cell_type": "code",
   "execution_count": 17,
   "metadata": {},
   "outputs": [
    {
     "name": "stdout",
     "output_type": "stream",
     "text": [
      "['B_FlightDistance', 'B_VertexChi2', 'H1_PX', 'H1_PY', 'H1_PZ', 'H1_ProbK', 'H1_ProbPi', 'H1_Charge', 'H1_IPChi2', 'H1_isMuon', 'H2_PX', 'H2_PY', 'H2_PZ', 'H2_ProbK', 'H2_ProbPi', 'H2_Charge', 'H2_IPChi2', 'H2_isMuon', 'H3_PX', 'H3_PY', 'H3_PZ', 'H3_ProbK', 'H3_ProbPi', 'H3_Charge', 'H3_IPChi2', 'H3_isMuon']\n"
     ]
    },
    {
     "ename": "SyntaxError",
     "evalue": "invalid syntax\nin file data/PhaseSpaceSimulation.root\nin object /PhaseSpaceTree;1 (<unknown>, line 1)",
     "output_type": "error",
     "traceback": [
      "Traceback \u001b[0;36m(most recent call last)\u001b[0m:\n",
      "\u001b[0m  File \u001b[1;32m~/.python/current/lib/python3.10/site-packages/uproot/language/python.py:22\u001b[0m in \u001b[1;35m_expression_to_node\u001b[0m\n    node = ast.parse(expression)\u001b[0m\n",
      "\u001b[0;36m  File \u001b[0;32m~/.python/current/lib/python3.10/ast.py:50\u001b[0;36m in \u001b[0;35mparse\u001b[0;36m\n\u001b[0;31m    return compile(source, filename, mode, flags,\u001b[0;36m\n",
      "\u001b[0;36m  File \u001b[0;32m<unknown>:1\u001b[0;36m\u001b[0m\n\u001b[0;31m    H1_Prob*\u001b[0m\n\u001b[0m            ^\u001b[0m\n\u001b[0;31mSyntaxError\u001b[0m\u001b[0;31m:\u001b[0m invalid syntax\n",
      "\nThe above exception was the direct cause of the following exception:\n",
      "Traceback \u001b[0;36m(most recent call last)\u001b[0m:\n",
      "\u001b[0m  File \u001b[1;32m~/.local/lib/python3.10/site-packages/IPython/core/interactiveshell.py:3460\u001b[0m in \u001b[1;35mrun_code\u001b[0m\n    exec(code_obj, self.user_global_ns, self.user_ns)\u001b[0m\n",
      "\u001b[0m  Cell \u001b[1;32mIn[17], line 5\u001b[0m\n    for data in tree.iterate(desired_keys):\u001b[0m\n",
      "\u001b[0m  File \u001b[1;32m~/.python/current/lib/python3.10/site-packages/uproot/behaviors/TBranch.py:1029\u001b[0m in \u001b[1;35miterate\u001b[0m\n    ) = _regularize_expressions(\u001b[0m\n",
      "\u001b[0m  File \u001b[1;32m~/.python/current/lib/python3.10/site-packages/uproot/behaviors/TBranch.py:2929\u001b[0m in \u001b[1;35m_regularize_expressions\u001b[0m\n    _regularize_expression(\u001b[0m\n",
      "\u001b[0m  File \u001b[1;32m~/.python/current/lib/python3.10/site-packages/uproot/behaviors/TBranch.py:2797\u001b[0m in \u001b[1;35m_regularize_expression\u001b[0m\n    for symbol in language.free_symbols(\u001b[0m\n",
      "\u001b[0m  File \u001b[1;32m~/.python/current/lib/python3.10/site-packages/uproot/language/python.py:377\u001b[0m in \u001b[1;35mfree_symbols\u001b[0m\n    node = _expression_to_node(expression, file_path, object_path)\u001b[0m\n",
      "\u001b[0;36m  File \u001b[0;32m~/.python/current/lib/python3.10/site-packages/uproot/language/python.py:24\u001b[0;36m in \u001b[0;35m_expression_to_node\u001b[0;36m\n\u001b[0;31m    raise SyntaxError(\u001b[0;36m\n",
      "\u001b[0;36m  File \u001b[0;32m<unknown>:1\u001b[0;36m\u001b[0m\n\u001b[0;31m    H1_Prob*\u001b[0m\n\u001b[0m            ^\u001b[0m\n\u001b[0;31mSyntaxError\u001b[0m\u001b[0;31m:\u001b[0m invalid syntax\nin file data/PhaseSpaceSimulation.root\nin object /PhaseSpaceTree;1\n"
     ]
    }
   ],
   "source": [
    "for tree in trees:\n",
    "    keys = tree.keys()\n",
    "    print(keys)\n",
    "    desired_keys = ['H1_PX','H1_PY', 'H1_PZ','H1_Charge','H1_Prob*','H1_isMuon', 'H2_PX', \"H2_PY\", \"H2_PZ\", 'H2_Charge','H2_Prob*','H2_isMuon', 'H3_PX','H3_PY','H3_PZ','H3_Charge','H3_Prob*','H3_isMuon']\n",
    "    for data in tree.iterate(desired_keys):\n",
    "        print(tree)"
   ]
  },
  {
   "cell_type": "code",
   "execution_count": 22,
   "metadata": {},
   "outputs": [],
   "source": [
    "list_of_interesting_keys = []\n",
    "for i in range(3):\n",
    "    exec(f\"list_of_interesting_keys.append('H{i}_PX')\")\n",
    "    exec(f\"list_of_interesting_keys.append('H{i}_PY')  \")\n",
    "    exec(f\"list_of_interesting_keys.append('H{i}_PZ')  \")\n",
    "    exec(f\"list_of_interesting_keys.append('H{i}_Charge')  \")\n",
    "    exec(f\"list_of_interesting_keys.append('H{i}_Prob{i}')  \")\n",
    "    exec(f\"list_of_interesting_keys.append('H{i}_isMuon')  \")"
   ]
  },
  {
   "cell_type": "code",
   "execution_count": 23,
   "metadata": {},
   "outputs": [
    {
     "data": {
      "text/plain": [
       "['H0_PX',\n",
       " 'H0_PY',\n",
       " 'H0_PZ',\n",
       " 'H0_Charge',\n",
       " 'H0_Prob0',\n",
       " 'H0_isMuon',\n",
       " 'H1_PX',\n",
       " 'H1_PY',\n",
       " 'H1_PZ',\n",
       " 'H1_Charge',\n",
       " 'H1_Prob1',\n",
       " 'H1_isMuon',\n",
       " 'H2_PX',\n",
       " 'H2_PY',\n",
       " 'H2_PZ',\n",
       " 'H2_Charge',\n",
       " 'H2_Prob2',\n",
       " 'H2_isMuon']"
      ]
     },
     "execution_count": 23,
     "metadata": {},
     "output_type": "execute_result"
    }
   ],
   "source": [
    "list_of_interesting_keys"
   ]
  },
  {
   "cell_type": "code",
   "execution_count": 1,
   "metadata": {},
   "outputs": [
    {
     "ename": "NameError",
     "evalue": "name 'data' is not defined",
     "output_type": "error",
     "traceback": [
      "\u001b[0;31m---------------------------------------------------------------------------\u001b[0m",
      "\u001b[0;31mNameError\u001b[0m                                 Traceback (most recent call last)",
      "Cell \u001b[0;32mIn[1], line 1\u001b[0m\n\u001b[0;32m----> 1\u001b[0m \u001b[39mprint\u001b[39m(\u001b[39mtype\u001b[39m(data[\u001b[39mb\u001b[39m\u001b[39m'\u001b[39m\u001b[39mH1_PX\u001b[39m\u001b[39m'\u001b[39m]))\n\u001b[1;32m      2\u001b[0m data[\u001b[39mb\u001b[39m\u001b[39m'\u001b[39m\u001b[39mH1_PX\u001b[39m\u001b[39m'\u001b[39m]\n",
      "\u001b[0;31mNameError\u001b[0m: name 'data' is not defined"
     ]
    }
   ],
   "source": [
    "        print(type(data[b'H1_PX']))\n",
    "data[b'H1_PX']"
   ]
  },
  {
   "cell_type": "markdown",
   "metadata": {},
   "source": []
  },
  {
   "cell_type": "code",
   "execution_count": null,
   "metadata": {},
   "outputs": [],
   "source": []
  }
 ],
 "metadata": {
  "kernelspec": {
   "display_name": "Python 3",
   "language": "python",
   "name": "python3"
  },
  "language_info": {
   "codemirror_mode": {
    "name": "ipython",
    "version": 3
   },
   "file_extension": ".py",
   "mimetype": "text/x-python",
   "name": "python",
   "nbconvert_exporter": "python",
   "pygments_lexer": "ipython3",
   "version": "3.10.4"
  },
  "orig_nbformat": 4
 },
 "nbformat": 4,
 "nbformat_minor": 2
}
