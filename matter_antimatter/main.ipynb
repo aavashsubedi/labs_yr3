{
 "cells": [
  {
   "cell_type": "code",
   "execution_count": 10,
   "metadata": {},
   "outputs": [],
   "source": [
    "!pip install uproot --quiet\n",
    "!pip install matplotlib --quiet\n",
    "!pip install numpy --quiet\n",
    "!pip install scipy --quiet\n",
    "!pip install tqdm --quiet"
   ]
  },
  {
   "cell_type": "code",
   "execution_count": 11,
   "metadata": {},
   "outputs": [],
   "source": [
    "import uproot\n",
    "import numpy as np\n",
    "import matplotlib.pylab as plt\n",
    "import matplotlib.colors as colors\n",
    "from scipy.optimize import curve_fit\n",
    "# import file_reading from src file \n",
    "from src.file_reading import read_file\n",
    "from importlib import reload\n"
   ]
  },
  {
   "cell_type": "code",
   "execution_count": null,
   "metadata": {},
   "outputs": [],
   "source": []
  },
  {
   "cell_type": "code",
   "execution_count": 12,
   "metadata": {},
   "outputs": [],
   "source": [
    "path = 'data/' # set this to '' to run on the GitHub version\n",
    "events_sim = uproot.open(path+'PhaseSpaceSimulation.root')\n",
    "events_down = uproot.open(path+'B2HHH_MagnetDown.root')\n",
    "events_up = uproot.open(path+'B2HHH_MagnetUp.root')"
   ]
  },
  {
   "cell_type": "code",
   "execution_count": 24,
   "metadata": {},
   "outputs": [],
   "source": [
    "list_of_interesting_keys = []\n",
    "for i in range(1, 4):\n",
    "    exec(f\"list_of_interesting_keys.append('H{i}_PX')\")\n",
    "    exec(f\"list_of_interesting_keys.append('H{i}_PY')  \")\n",
    "    exec(f\"list_of_interesting_keys.append('H{i}_PZ')  \")\n",
    "    exec(f\"list_of_interesting_keys.append('H{i}_Charge')  \")\n",
    "    exec(f\"list_of_interesting_keys.append('H{i}_ProbK')  \")\n",
    "    exec(f\"list_of_interesting_keys.append('H{i}_ProbPi')  \")\n",
    "    exec(f\"list_of_interesting_keys.append('H{i}_isMuon')  \")"
   ]
  },
  {
   "cell_type": "code",
   "execution_count": 26,
   "metadata": {},
   "outputs": [
    {
     "name": "stdout",
     "output_type": "stream",
     "text": [
      "Input data variables:\n",
      "['B_FlightDistance', 'B_VertexChi2', 'H1_PX', 'H1_PY', 'H1_PZ', 'H1_ProbK', 'H1_ProbPi', 'H1_Charge', 'H1_IPChi2', 'H1_isMuon', 'H2_PX', 'H2_PY', 'H2_PZ', 'H2_ProbK', 'H2_ProbPi', 'H2_Charge', 'H2_IPChi2', 'H2_isMuon', 'H3_PX', 'H3_PY', 'H3_PZ', 'H3_ProbK', 'H3_ProbPi', 'H3_Charge', 'H3_IPChi2', 'H3_isMuon']\n",
      "Read 5001 events\n"
     ]
    }
   ],
   "source": [
    "# Check what's in the tree. \n",
    "# Note that the simulation tree is called 'PhaseSpaceTree' and does not have the ProbPi/K variables filled.\n",
    "print('Input data variables:')\n",
    "print(events_up['DecayTree'].keys())\n",
    "\n",
    "# These are the arrays to hold the data\n",
    "pT = []\n",
    "pX = []\n",
    "pY = []\n",
    "pZ = []\n",
    "\n",
    "# A counter for bookkeeping\n",
    "event_counter = 0\n",
    "\n",
    "# If set to a value greater than 0, limits the number of events analysed\n",
    "# Set to -1 to run over all events. \n",
    "# It is recommended to keep the number of events limited while developing the analysis.\n",
    "MAX_EVENTS = 5000\n",
    "\n",
    "# Select which set of input data is to be analysed. Uncomment exactly one line\n",
    "trees = [events_sim['PhaseSpaceTree']]                       # Simulation\n",
    "#trees = [events_down[b'DecayTree']]                          # Magnet down data\n",
    "#trees = [events_up['DecayTree']]                             # Magnet up data\n",
    "#trees = [events_down[b'DecayTree'],events_up['DecayTree']]   # Magnet down+up data\n",
    "\n",
    "# This loop goes over the trees to be analysed\n",
    "for tree in trees:\n",
    "    # This outer loop is a technical loop of uproot over chunks of events\n",
    "    \n",
    "    for data in tree.iterate(list_of_interesting_keys):\n",
    "        # As Python can handle calculations with arrays, we can calculate derived quantities here\n",
    "        pT_H1 = np.sqrt(data['H1_PX']**2+data['H1_PY']**2)\n",
    "        pT_H2 = np.sqrt(data['H2_PX']**2+data['H2_PY']**2)\n",
    "        pT_H3 = np.sqrt(data['H3_PX']**2+data['H3_PY']**2)\n",
    "\n",
    "        # Your invariant mass calculation should go here\n",
    "        \n",
    "        # This loop will go over individual events\n",
    "        for i in range(0,len(data['H1_PZ'])):\n",
    "            event_counter += 1\n",
    "            if 0 < MAX_EVENTS and MAX_EVENTS < event_counter: break\n",
    "            if 0 == (event_counter % 100000): print('Read', event_counter, 'events')\n",
    "            # Decide here which events to analyse\n",
    "            if (data['H1_PZ'][i] < 0) or (data['H2_PZ'][i] < 0) or (data['H3_PZ'][i] < 0): continue\n",
    "            # Fill arrays of events to be plotted and analysed further below\n",
    "            # Adding values for all three hadrons to the same variable here\n",
    "            pT.append(pT_H1[i])\n",
    "            pT.append(pT_H2[i])\n",
    "            pT.append(pT_H3[i])\n",
    "            pX.append(data['H1_PX'][i])\n",
    "            pX.append(data['H2_PX'][i])\n",
    "            pX.append(data['H3_PX'][i])\n",
    "            pY.append(data['H1_PY'][i])\n",
    "            pY.append(data['H2_PY'][i])\n",
    "            pY.append(data['H3_PY'][i])\n",
    "            pZ.append(data['H1_PZ'][i])\n",
    "            pZ.append(data['H2_PZ'][i])\n",
    "            pZ.append(data['H3_PZ'][i])\n",
    " \n",
    "print('Read {:d} events'.format(event_counter))"
   ]
  },
  {
   "cell_type": "code",
   "execution_count": 27,
   "metadata": {},
   "outputs": [],
   "source": [
    "#reload file_reading\n",
    "#pT, pX, pY, pZ = read_file(MAX_EVENTS=5000, mode=0)"
   ]
  },
  {
   "cell_type": "code",
   "execution_count": 28,
   "metadata": {},
   "outputs": [
    {
     "name": "stdout",
     "output_type": "stream",
     "text": [
      "['B_FlightDistance', 'B_VertexChi2', 'H1_PX', 'H1_PY', 'H1_PZ', 'H1_ProbK', 'H1_ProbPi', 'H1_Charge', 'H1_IPChi2', 'H1_isMuon', 'H2_PX', 'H2_PY', 'H2_PZ', 'H2_ProbK', 'H2_ProbPi', 'H2_Charge', 'H2_IPChi2', 'H2_isMuon', 'H3_PX', 'H3_PY', 'H3_PZ', 'H3_ProbK', 'H3_ProbPi', 'H3_Charge', 'H3_IPChi2', 'H3_isMuon']\n"
     ]
    },
    {
     "ename": "SyntaxError",
     "evalue": "invalid syntax\nin file data/PhaseSpaceSimulation.root\nin object /PhaseSpaceTree;1 (<unknown>, line 1)",
     "output_type": "error",
     "traceback": [
      "Traceback \u001b[0;36m(most recent call last)\u001b[0m:\n",
      "\u001b[0m  File \u001b[1;32m~/.local/lib/python3.8/site-packages/uproot/language/python.py:22\u001b[0m in \u001b[1;35m_expression_to_node\u001b[0m\n    node = ast.parse(expression)\u001b[0m\n",
      "\u001b[0;36m  File \u001b[0;32m/usr/lib/python3.8/ast.py:47\u001b[0;36m in \u001b[0;35mparse\u001b[0;36m\n\u001b[0;31m    return compile(source, filename, mode, flags,\u001b[0;36m\n",
      "\u001b[0;36m  File \u001b[0;32m<unknown>:1\u001b[0;36m\u001b[0m\n\u001b[0;31m    H1_Prob*\u001b[0m\n\u001b[0m            ^\u001b[0m\n\u001b[0;31mSyntaxError\u001b[0m\u001b[0;31m:\u001b[0m invalid syntax\n",
      "\nThe above exception was the direct cause of the following exception:\n",
      "Traceback \u001b[0;36m(most recent call last)\u001b[0m:\n",
      "\u001b[0m  File \u001b[1;32m~/.local/lib/python3.8/site-packages/IPython/core/interactiveshell.py:3460\u001b[0m in \u001b[1;35mrun_code\u001b[0m\n    exec(code_obj, self.user_global_ns, self.user_ns)\u001b[0m\n",
      "\u001b[0m  Cell \u001b[1;32mIn[28], line 5\u001b[0m\n    for data in tree.iterate(desired_keys):\u001b[0m\n",
      "\u001b[0m  File \u001b[1;32m~/.local/lib/python3.8/site-packages/uproot/behaviors/TBranch.py:1029\u001b[0m in \u001b[1;35miterate\u001b[0m\n    ) = _regularize_expressions(\u001b[0m\n",
      "\u001b[0m  File \u001b[1;32m~/.local/lib/python3.8/site-packages/uproot/behaviors/TBranch.py:2929\u001b[0m in \u001b[1;35m_regularize_expressions\u001b[0m\n    _regularize_expression(\u001b[0m\n",
      "\u001b[0m  File \u001b[1;32m~/.local/lib/python3.8/site-packages/uproot/behaviors/TBranch.py:2797\u001b[0m in \u001b[1;35m_regularize_expression\u001b[0m\n    for symbol in language.free_symbols(\u001b[0m\n",
      "\u001b[0m  File \u001b[1;32m~/.local/lib/python3.8/site-packages/uproot/language/python.py:377\u001b[0m in \u001b[1;35mfree_symbols\u001b[0m\n    node = _expression_to_node(expression, file_path, object_path)\u001b[0m\n",
      "\u001b[0;36m  File \u001b[0;32m~/.local/lib/python3.8/site-packages/uproot/language/python.py:24\u001b[0;36m in \u001b[0;35m_expression_to_node\u001b[0;36m\n\u001b[0;31m    raise SyntaxError(\u001b[0;36m\n",
      "\u001b[0;36m  File \u001b[0;32m<unknown>:1\u001b[0;36m\u001b[0m\n\u001b[0;31m    H1_Prob*\u001b[0m\n\u001b[0m            ^\u001b[0m\n\u001b[0;31mSyntaxError\u001b[0m\u001b[0;31m:\u001b[0m invalid syntax\nin file data/PhaseSpaceSimulation.root\nin object /PhaseSpaceTree;1\n"
     ]
    }
   ],
   "source": [
    "for tree in trees:\n",
    "    keys = tree.keys()\n",
    "    print(keys)\n",
    "    desired_keys = ['H1_PX','H1_PY', 'H1_PZ','H1_Charge','H1_Prob*','H1_isMuon', 'H2_PX', \"H2_PY\", \"H2_PZ\", 'H2_Charge','H2_Prob*','H2_isMuon', 'H3_PX','H3_PY','H3_PZ','H3_Charge','H3_Prob*','H3_isMuon']\n",
    "    for data in tree.iterate(desired_keys):\n",
    "        print(tree)"
   ]
  },
  {
   "cell_type": "code",
   "execution_count": 29,
   "metadata": {},
   "outputs": [],
   "source": [
    "list_of_interesting_keys = []\n",
    "for i in range(3):\n",
    "    exec(f\"list_of_interesting_keys.append('H{i}_PX')\")\n",
    "    exec(f\"list_of_interesting_keys.append('H{i}_PY')  \")\n",
    "    exec(f\"list_of_interesting_keys.append('H{i}_PZ')  \")\n",
    "    exec(f\"list_of_interesting_keys.append('H{i}_Charge')  \")\n",
    "    exec(f\"list_of_interesting_keys.append('H{i}_Prob{i}')  \")\n",
    "    exec(f\"list_of_interesting_keys.append('H{i}_isMuon')  \")"
   ]
  },
  {
   "cell_type": "code",
   "execution_count": 30,
   "metadata": {},
   "outputs": [
    {
     "data": {
      "text/plain": [
       "['H0_PX',\n",
       " 'H0_PY',\n",
       " 'H0_PZ',\n",
       " 'H0_Charge',\n",
       " 'H0_Prob0',\n",
       " 'H0_isMuon',\n",
       " 'H1_PX',\n",
       " 'H1_PY',\n",
       " 'H1_PZ',\n",
       " 'H1_Charge',\n",
       " 'H1_Prob1',\n",
       " 'H1_isMuon',\n",
       " 'H2_PX',\n",
       " 'H2_PY',\n",
       " 'H2_PZ',\n",
       " 'H2_Charge',\n",
       " 'H2_Prob2',\n",
       " 'H2_isMuon']"
      ]
     },
     "execution_count": 30,
     "metadata": {},
     "output_type": "execute_result"
    }
   ],
   "source": [
    "list_of_interesting_keys"
   ]
  },
  {
   "cell_type": "code",
   "execution_count": 31,
   "metadata": {},
   "outputs": [
    {
     "name": "stdout",
     "output_type": "stream",
     "text": [
      "<class 'awkward.highlevel.Array'>\n"
     ]
    },
    {
     "data": {
      "text/html": [
       "<pre>[3.61e+04,\n",
       " -8.65e+03,\n",
       " -1.35e+04,\n",
       " 1.93e+03,\n",
       " -2.82e+03,\n",
       " -441,\n",
       " 3.46e+03,\n",
       " -4.48e+03,\n",
       " -2.08e+03,\n",
       " 3.3e+03,\n",
       " ...,\n",
       " 8.4e+03,\n",
       " -2.61e+04,\n",
       " 1.83e+03,\n",
       " 6.11e+03,\n",
       " 4.83e+03,\n",
       " -1.13e+04,\n",
       " -1.27e+03,\n",
       " 2.21e+04,\n",
       " 1.87e+04]\n",
       "---------------------\n",
       "type: 50000 * float64</pre>"
      ],
      "text/plain": [
       "<Array [3.61e+04, -8.65e+03, ..., 2.21e+04, 1.87e+04] type='50000 * float64'>"
      ]
     },
     "execution_count": 31,
     "metadata": {},
     "output_type": "execute_result"
    }
   ],
   "source": [
    "        print(type(data[b'H1_PX']))\n",
    "data['H3_PX']"
   ]
  },
  {
   "cell_type": "markdown",
   "metadata": {},
   "source": []
  },
  {
   "cell_type": "code",
   "execution_count": 32,
   "metadata": {},
   "outputs": [
    {
     "name": "stdout",
     "output_type": "stream",
     "text": [
      "[{H1_PX: 5.21e+03, H1_PY: 4.08e+03, H1_PZ: 1.93e+04, H1_Charge: -1, ...}, ...]\n"
     ]
    }
   ],
   "source": [
    "print(data[b\"H1_PX\"])"
   ]
  },
  {
   "cell_type": "code",
   "execution_count": null,
   "metadata": {},
   "outputs": [],
   "source": []
  }
 ],
 "metadata": {
  "kernelspec": {
   "display_name": "Python 3",
   "language": "python",
   "name": "python3"
  },
  "language_info": {
   "codemirror_mode": {
    "name": "ipython",
    "version": 3
   },
   "file_extension": ".py",
   "mimetype": "text/x-python",
   "name": "python",
   "nbconvert_exporter": "python",
   "pygments_lexer": "ipython3",
   "version": "3.8.10"
  },
  "orig_nbformat": 4
 },
 "nbformat": 4,
 "nbformat_minor": 2
}
