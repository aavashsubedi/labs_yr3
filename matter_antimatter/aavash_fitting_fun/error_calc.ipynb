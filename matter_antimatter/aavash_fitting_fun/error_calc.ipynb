{
 "cells": [
  {
   "cell_type": "code",
   "execution_count": 20,
   "metadata": {},
   "outputs": [],
   "source": [
    "import numpy as np"
   ]
  },
  {
   "cell_type": "code",
   "execution_count": 37,
   "metadata": {},
   "outputs": [],
   "source": [
    "bplus_results_100 =  {\"crystal_ball\": 96181.20604342569,\n",
    "                      \"gaussian:\": 78280.27348805747,\n",
    "                      \"linear_background\": 81547.77469005663,\n",
    "                      \"exponential_background\": 78280.27348805747}\n",
    "b_plus_results_100_chi2 =  {\"crystal_ball\": 1.19,\n",
    "                        \"gaussian:\": 1.86,\n",
    "                        \"linear_background\": 1.65,\n",
    "                        \"exponential_background\": 1.86}\n",
    "\n",
    "bminus_results_100 =  {\"crystal_ball\": 90609.12776784757,\n",
    "                      \"gaussian:\": 76293.16354903168,\n",
    "                      \"linear_background\": 65649.66405057328,\n",
    "                      \"exponential_background\": 76293.16354903168}\n",
    "b_minus_results_100_chi2 =  {\"crystal_ball\": 1.01,\n",
    "                        \"gaussian:\": 2.13,\n",
    "                        \"linear_background\": 12.52,\n",
    "                        \"exponential_background\": 1.86}\n",
    "\n",
    "#cball with 150 bins\n",
    "\n",
    "bplus_cball_150 =  {\"crystal_ball\": 65084.74405747599}\n",
    "b_plus_cball_150_chi2 =  {\"crystal_ball\": 1.05}\n",
    "\n"
   ]
  },
  {
   "cell_type": "code",
   "execution_count": 29,
   "metadata": {},
   "outputs": [],
   "source": [
    "#150 Bins (MORE WERe tried)\n",
    "bplus_results_150 =  {\"crystal_ball\": 60369.711287108075,\n",
    "                      \"gaussian:\": 50887.28007052895,\n",
    "                      \"linear_background\": 51649.66405057328,\n",
    "                      \"exponential_background\": 50887.28007052895 }\n",
    "b_plus_results_150_chi2 =  {\"crystal_ball\": 1.19,\n",
    "                        \"gaussian:\": 1.87,\n",
    "                        \"linear_background\": 1.65,\n",
    "                        \"exponential_background\": 1.87}\n",
    "\n",
    "bminus_results_150 =  {\"crystal_ball\": 65084.74405747599,\n",
    "                      \"gaussian:\":       52177.09613541902,\n",
    "                      \"linear_background\":  52663.62686250949,\n",
    "                      \"exponential_background\": 52177.09613541902}\n",
    "b_minus_results_150_chi2 =  {\"crystal_ball\": 1.05,\n",
    "                        \"gaussian:\": 1.59,\n",
    "                        \"linear_background\": 1.76,\n",
    "                        \"exponential_background\": 1.59}\n"
   ]
  },
  {
   "cell_type": "code",
   "execution_count": 30,
   "metadata": {},
   "outputs": [],
   "source": [
    "def assymetry(N_plus, N_minus):\n",
    "    assy = (N_plus - N_minus) / (N_plus + N_minus)\n",
    "    unc_assy = np.sqrt(( 1 - assy**2) / (N_plus + N_minus))\n",
    "\n",
    "    return assy, unc_assy"
   ]
  },
  {
   "cell_type": "code",
   "execution_count": 41,
   "metadata": {},
   "outputs": [
    {
     "name": "stdout",
     "output_type": "stream",
     "text": [
      "-0.03758362154151638 0.0028213048264918938\n",
      "(-0.012514664255209813, 0.00311466755490759)\n",
      "(-0.009720360685208143, 0.003096062066300383)\n"
     ]
    }
   ],
   "source": [
    "#calculate assymetry for 150 bins\n",
    "bplus_assy_150, bplus_unc_assy_150 = assymetry(bplus_results_150[\"crystal_ball\"], bminus_results_150[\"crystal_ball\"])\n",
    "gaussian_signal_assymetry = assymetry(bplus_results_150[\"gaussian:\"], bminus_results_150[\"gaussian:\"])\n",
    "linear_background_assymetry = assymetry(bplus_results_150[\"linear_background\"], bminus_results_150[\"linear_background\"])\n",
    "\n",
    "print(bplus_assy_150, bplus_unc_assy_150)\n",
    "print(gaussian_signal_assymetry)\n",
    "print(linear_background_assymetry)\n",
    "\n"
   ]
  },
  {
   "cell_type": "code",
   "execution_count": null,
   "metadata": {},
   "outputs": [],
   "source": []
  },
  {
   "cell_type": "code",
   "execution_count": 43,
   "metadata": {},
   "outputs": [],
   "source": [
    "crystal_assymetry = assymetry(bplus_results_150[\"crystal_ball\"], bminus_results_150[\"crystal_ball\"])\n",
    "gaussian_signal_assymetry = assymetry(bplus_results_150[\"gaussian:\"], bminus_results_150[\"gaussian:\"])\n",
    "linear_background_assymetry = assymetry(bplus_results_150[\"linear_background\"], bminus_results_150[\"linear_background\"])\n",
    "exponetial_background_assymetry = assymetry(bplus_results_150[\"exponential_background\"], bminus_results_150[\"exponential_background\"])\n",
    "\n",
    "\n"
   ]
  },
  {
   "cell_type": "code",
   "execution_count": 44,
   "metadata": {},
   "outputs": [
    {
     "name": "stdout",
     "output_type": "stream",
     "text": [
      "crystal_ball assymetry:  (-0.03758362154151638, 0.0028213048264918938)\n",
      "gaussian_signal assymetry:  (-0.012514664255209813, 0.00311466755490759)\n",
      "linear_background assymetry:  (-0.009720360685208143, 0.003096062066300383)\n",
      "exponetial_background assymetry:  (-0.012514664255209813, 0.00311466755490759)\n"
     ]
    }
   ],
   "source": [
    "print(\"crystal_ball assymetry: \", crystal_assymetry)\n",
    "print(\"gaussian_signal assymetry: \", gaussian_signal_assymetry)\n",
    "print(\"linear_background assymetry: \", linear_background_assymetry)\n",
    "print(\"exponetial_background assymetry: \", exponetial_background_assymetry)"
   ]
  },
  {
   "cell_type": "code",
   "execution_count": 47,
   "metadata": {},
   "outputs": [
    {
     "name": "stdout",
     "output_type": "stream",
     "text": [
      "signal_sys:  0.012534478643153282\n",
      "background_sys:  0.0013971517850008353\n",
      "Total systematic:  0.012612104819021952\n"
     ]
    }
   ],
   "source": [
    "#calculate the signal assymetry \n",
    "\n",
    "signal_sys = np.abs(crystal_assymetry[0] - gaussian_signal_assymetry[0])/2\n",
    "background_sys = np.abs(exponetial_background_assymetry[0] - linear_background_assymetry[0])/2\n",
    "\n",
    "print(\"signal_sys: \", signal_sys)\n",
    "print(\"background_sys: \", background_sys)\n",
    "\n",
    "#calculate the total assymetry\n",
    "print(\"Total systematic: \", (signal_sys**2 + background_sys**2)**0.5)"
   ]
  },
  {
   "cell_type": "code",
   "execution_count": 49,
   "metadata": {},
   "outputs": [
    {
     "data": {
      "text/plain": [
       "0.014551975810864997"
      ]
     },
     "execution_count": 49,
     "metadata": {},
     "output_type": "execute_result"
    }
   ],
   "source": [
    "(0.0126**2 + 0.002**2 + 0.007**2)**0.5"
   ]
  },
  {
   "cell_type": "markdown",
   "metadata": {},
   "source": []
  },
  {
   "cell_type": "code",
   "execution_count": 12,
   "metadata": {},
   "outputs": [],
   "source": [
    "#perform kolmogorov smirnov test with two models\n",
    "from scipy.stats import ks_2samp\n",
    "\n",
    "def ks_test(model1, model2):\n",
    "\n",
    "    return ks_2samp(model1, model2)"
   ]
  },
  {
   "cell_type": "code",
   "execution_count": 13,
   "metadata": {},
   "outputs": [],
   "source": [
    "#compute the Kullback-Leibler divergence between two models\n",
    "from scipy.stats import entropy\n"
   ]
  },
  {
   "cell_type": "code",
   "execution_count": 20,
   "metadata": {},
   "outputs": [],
   "source": [
    "#second iteration\n",
    "bplus_results_100 =  {\"crystal_ball\": 96365.39678062993,\n",
    "                      \"gaussian:\": 78280.27348805747,\n",
    "                      \"linear_background\": 81547.77469005663,\n",
    "                      \"exponential_background\": 78280.27348805747}\n",
    "b_plus_results_100_chi2 =  {\"crystal_ball\": 1.23,\n",
    "                        \"gaussian:\": 1.86,\n",
    "                        \"linear_background\": 1.65,\n",
    "                        \"exponential_background\": 1.86}\n",
    "\n",
    "bminus_results_100 =  {\"crystal_ball\": 94519.12776784757,\n",
    "                      \"gaussian:\": 76293.16354903168,\n",
    "                      \"linear_background\": 65649.66405057328,\n",
    "                      \"exponential_background\": 76293.16354903168}\n",
    "b_minus_results_100_chi2 =  {\"crystal_ball\": 1.24,\n",
    "                        \"gaussian:\": 2.13,\n",
    "                        \"linear_background\": 12.52,\n",
    "                        \"exponential_background\": 1.86}"
   ]
  },
  {
   "cell_type": "code",
   "execution_count": 50,
   "metadata": {},
   "outputs": [
    {
     "name": "stdout",
     "output_type": "stream",
     "text": [
      "crystal_ball assymetry:  (0.02983065644717972, 0.002312754222100496)\n",
      "gaussian_signal assymetry:  (0.012855442546373544, 0.002543294656684462)\n",
      "linear_background assymetry:  (0.1080053482961528, 0.0025912059182769155)\n",
      "exponetial_background assymetry:  (0.012855442546373544, 0.002543294656684462)\n"
     ]
    }
   ],
   "source": [
    "crystal_assymetry = assymetry(bplus_results_100[\"crystal_ball\"], bminus_results_100[\"crystal_ball\"])\n",
    "gaussian_signal_assymetry = assymetry(bplus_results_100[\"gaussian:\"], bminus_results_100[\"gaussian:\"])\n",
    "linear_background_assymetry = assymetry(bplus_results_100[\"linear_background\"], bminus_results_100[\"linear_background\"])\n",
    "exponetial_background_assymetry = assymetry(bplus_results_100[\"exponential_background\"], bminus_results_100[\"exponential_background\"])\n",
    "\n",
    "print(\"crystal_ball assymetry: \", crystal_assymetry)\n",
    "print(\"gaussian_signal assymetry: \", gaussian_signal_assymetry)\n",
    "print(\"linear_background assymetry: \", linear_background_assymetry)\n",
    "print(\"exponetial_background assymetry: \", exponetial_background_assymetry)"
   ]
  },
  {
   "cell_type": "code",
   "execution_count": 3,
   "metadata": {},
   "outputs": [
    {
     "data": {
      "text/plain": [
       "0.008475"
      ]
     },
     "execution_count": 3,
     "metadata": {},
     "output_type": "execute_result"
    }
   ],
   "source": [
    "(0.0298-0.01285)/2"
   ]
  },
  {
   "cell_type": "code",
   "execution_count": 8,
   "metadata": {},
   "outputs": [
    {
     "data": {
      "text/plain": [
       "0.047599999999999996"
      ]
     },
     "execution_count": 8,
     "metadata": {},
     "output_type": "execute_result"
    }
   ],
   "source": [
    "(0.108-0.0128) / 2"
   ]
  },
  {
   "cell_type": "code",
   "execution_count": null,
   "metadata": {},
   "outputs": [],
   "source": []
  },
  {
   "cell_type": "code",
   "execution_count": 5,
   "metadata": {},
   "outputs": [
    {
     "data": {
      "text/plain": [
       "0.007280109889280519"
      ]
     },
     "execution_count": 5,
     "metadata": {},
     "output_type": "execute_result"
    }
   ],
   "source": [
    "(0.007**2 + 0.002**2)**0.5"
   ]
  },
  {
   "cell_type": "code",
   "execution_count": 12,
   "metadata": {},
   "outputs": [
    {
     "data": {
      "text/plain": [
       "0.049287422330651455"
      ]
     },
     "execution_count": 12,
     "metadata": {},
     "output_type": "execute_result"
    }
   ],
   "source": [
    "(0.048**2 +0.0085**2 + 0.007**2 +0.002**2)**(0.5)"
   ]
  },
  {
   "cell_type": "code",
   "execution_count": null,
   "metadata": {},
   "outputs": [],
   "source": []
  }
 ],
 "metadata": {
  "kernelspec": {
   "display_name": "base",
   "language": "python",
   "name": "python3"
  },
  "language_info": {
   "codemirror_mode": {
    "name": "ipython",
    "version": 3
   },
   "file_extension": ".py",
   "mimetype": "text/x-python",
   "name": "python",
   "nbconvert_exporter": "python",
   "pygments_lexer": "ipython3",
   "version": "3.10.10"
  },
  "orig_nbformat": 4
 },
 "nbformat": 4,
 "nbformat_minor": 2
}
